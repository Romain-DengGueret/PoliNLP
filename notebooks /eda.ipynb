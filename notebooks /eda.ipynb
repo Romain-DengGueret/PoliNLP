{
 "cells": [
  {
   "cell_type": "markdown",
   "metadata": {},
   "source": [
    "# Exploratory data analysis"
   ]
  },
  {
   "cell_type": "code",
   "execution_count": 2,
   "metadata": {},
   "outputs": [],
   "source": [
    "import polars as pl"
   ]
  },
  {
   "cell_type": "code",
   "execution_count": 3,
   "metadata": {},
   "outputs": [
    {
     "data": {
      "text/html": [
       "<div><style>\n",
       ".dataframe > thead > tr,\n",
       ".dataframe > tbody > tr {\n",
       "  text-align: right;\n",
       "  white-space: pre-wrap;\n",
       "}\n",
       "</style>\n",
       "<small>shape: (5, 12)</small><table border=\"1\" class=\"dataframe\"><thead><tr><th>serie_id</th><th>serie_label</th><th>age</th><th>prestation</th><th>annee</th><th>champ_eni</th><th>champ_eni_a_privilegier</th><th>maturite</th><th>maturite_a_privilegier</th><th>modalite</th><th>unite</th><th>valeur</th></tr><tr><td>str</td><td>str</td><td>str</td><td>str</td><td>str</td><td>str</td><td>i64</td><td>str</td><td>i64</td><td>str</td><td>str</td><td>f64</td></tr></thead><tbody><tr><td>&quot;traj01&quot;</td><td>&quot;Taux d’entrée dans les minima …</td><td>&quot;16-64 ans&quot;</td><td>&quot;RSA&quot;</td><td>&quot;2007&quot;</td><td>&quot;Historique&quot;</td><td>1</td><td>&quot;fr2&quot;</td><td>0</td><td>&quot;None&quot;</td><td>&quot;Pourcentage&quot;</td><td>24.96</td></tr><tr><td>&quot;traj01&quot;</td><td>&quot;Taux d’entrée dans les minima …</td><td>&quot;16-64 ans&quot;</td><td>&quot;RSA majoré&quot;</td><td>&quot;2007&quot;</td><td>&quot;Historique&quot;</td><td>1</td><td>&quot;fr2_corr&quot;</td><td>1</td><td>&quot;None&quot;</td><td>&quot;Pourcentage&quot;</td><td>39.38</td></tr><tr><td>&quot;traj01&quot;</td><td>&quot;Taux d’entrée dans les minima …</td><td>&quot;16-64 ans&quot;</td><td>&quot;RSA non majoré&quot;</td><td>&quot;2007&quot;</td><td>&quot;Historique&quot;</td><td>1</td><td>&quot;fr2&quot;</td><td>0</td><td>&quot;None&quot;</td><td>&quot;Pourcentage&quot;</td><td>22.63</td></tr><tr><td>&quot;traj01&quot;</td><td>&quot;Taux d’entrée dans les minima …</td><td>&quot;16-64 ans&quot;</td><td>&quot;RSA non majoré&quot;</td><td>&quot;2007&quot;</td><td>&quot;Historique&quot;</td><td>1</td><td>&quot;fr2_corr&quot;</td><td>1</td><td>&quot;None&quot;</td><td>&quot;Pourcentage&quot;</td><td>22.08</td></tr><tr><td>&quot;traj01&quot;</td><td>&quot;Taux d’entrée dans les minima …</td><td>&quot;16-64 ans&quot;</td><td>&quot;AAH&quot;</td><td>&quot;2007&quot;</td><td>&quot;Historique&quot;</td><td>1</td><td>&quot;fr2_corr&quot;</td><td>1</td><td>&quot;None&quot;</td><td>&quot;Pourcentage&quot;</td><td>6.14</td></tr></tbody></table></div>"
      ],
      "text/plain": [
       "shape: (5, 12)\n",
       "┌──────────┬────────────┬───────────┬────────────┬───┬────────────┬──────────┬────────────┬────────┐\n",
       "│ serie_id ┆ serie_labe ┆ age       ┆ prestation ┆ … ┆ maturite_a ┆ modalite ┆ unite      ┆ valeur │\n",
       "│ ---      ┆ l          ┆ ---       ┆ ---        ┆   ┆ _privilegi ┆ ---      ┆ ---        ┆ ---    │\n",
       "│ str      ┆ ---        ┆ str       ┆ str        ┆   ┆ er         ┆ str      ┆ str        ┆ f64    │\n",
       "│          ┆ str        ┆           ┆            ┆   ┆ ---        ┆          ┆            ┆        │\n",
       "│          ┆            ┆           ┆            ┆   ┆ i64        ┆          ┆            ┆        │\n",
       "╞══════════╪════════════╪═══════════╪════════════╪═══╪════════════╪══════════╪════════════╪════════╡\n",
       "│ traj01   ┆ Taux       ┆ 16-64 ans ┆ RSA        ┆ … ┆ 0          ┆ None     ┆ Pourcentag ┆ 24.96  │\n",
       "│          ┆ d’entrée   ┆           ┆            ┆   ┆            ┆          ┆ e          ┆        │\n",
       "│          ┆ dans les   ┆           ┆            ┆   ┆            ┆          ┆            ┆        │\n",
       "│          ┆ minima …   ┆           ┆            ┆   ┆            ┆          ┆            ┆        │\n",
       "│ traj01   ┆ Taux       ┆ 16-64 ans ┆ RSA majoré ┆ … ┆ 1          ┆ None     ┆ Pourcentag ┆ 39.38  │\n",
       "│          ┆ d’entrée   ┆           ┆            ┆   ┆            ┆          ┆ e          ┆        │\n",
       "│          ┆ dans les   ┆           ┆            ┆   ┆            ┆          ┆            ┆        │\n",
       "│          ┆ minima …   ┆           ┆            ┆   ┆            ┆          ┆            ┆        │\n",
       "│ traj01   ┆ Taux       ┆ 16-64 ans ┆ RSA non    ┆ … ┆ 0          ┆ None     ┆ Pourcentag ┆ 22.63  │\n",
       "│          ┆ d’entrée   ┆           ┆ majoré     ┆   ┆            ┆          ┆ e          ┆        │\n",
       "│          ┆ dans les   ┆           ┆            ┆   ┆            ┆          ┆            ┆        │\n",
       "│          ┆ minima …   ┆           ┆            ┆   ┆            ┆          ┆            ┆        │\n",
       "│ traj01   ┆ Taux       ┆ 16-64 ans ┆ RSA non    ┆ … ┆ 1          ┆ None     ┆ Pourcentag ┆ 22.08  │\n",
       "│          ┆ d’entrée   ┆           ┆ majoré     ┆   ┆            ┆          ┆ e          ┆        │\n",
       "│          ┆ dans les   ┆           ┆            ┆   ┆            ┆          ┆            ┆        │\n",
       "│          ┆ minima …   ┆           ┆            ┆   ┆            ┆          ┆            ┆        │\n",
       "│ traj01   ┆ Taux       ┆ 16-64 ans ┆ AAH        ┆ … ┆ 1          ┆ None     ┆ Pourcentag ┆ 6.14   │\n",
       "│          ┆ d’entrée   ┆           ┆            ┆   ┆            ┆          ┆ e          ┆        │\n",
       "│          ┆ dans les   ┆           ┆            ┆   ┆            ┆          ┆            ┆        │\n",
       "│          ┆ minima …   ┆           ┆            ┆   ┆            ┆          ┆            ┆        │\n",
       "└──────────┴────────────┴───────────┴────────────┴───┴────────────┴──────────┴────────────┴────────┘"
      ]
     },
     "execution_count": 3,
     "metadata": {},
     "output_type": "execute_result"
    }
   ],
   "source": [
    "minimasociaux = \"trajectoires-des-beneficiaires-de-minima-sociaux\"\n",
    "df_eda = pl.read_parquet(\n",
    "    \"~/work/PoliNLP/data/preprocessed/{}.parquet\".format(minimasociaux)\n",
    ")\n",
    "\n",
    "df_eda.head()"
   ]
  },
  {
   "cell_type": "code",
   "execution_count": 4,
   "metadata": {},
   "outputs": [
    {
     "data": {
      "text/html": [
       "<div><style>\n",
       ".dataframe > thead > tr,\n",
       ".dataframe > tbody > tr {\n",
       "  text-align: right;\n",
       "  white-space: pre-wrap;\n",
       "}\n",
       "</style>\n",
       "<small>shape: (7, 2)</small><table border=\"1\" class=\"dataframe\"><thead><tr><th>serie_id</th><th>count</th></tr><tr><td>str</td><td>u32</td></tr></thead><tbody><tr><td>&quot;traj01&quot;</td><td>576</td></tr><tr><td>&quot;traj07&quot;</td><td>720</td></tr><tr><td>&quot;traj03&quot;</td><td>80</td></tr><tr><td>&quot;traj02&quot;</td><td>576</td></tr><tr><td>&quot;traj05&quot;</td><td>480</td></tr><tr><td>&quot;traj04&quot;</td><td>80</td></tr><tr><td>&quot;traj06&quot;</td><td>560</td></tr></tbody></table></div>"
      ],
      "text/plain": [
       "shape: (7, 2)\n",
       "┌──────────┬───────┐\n",
       "│ serie_id ┆ count │\n",
       "│ ---      ┆ ---   │\n",
       "│ str      ┆ u32   │\n",
       "╞══════════╪═══════╡\n",
       "│ traj01   ┆ 576   │\n",
       "│ traj07   ┆ 720   │\n",
       "│ traj03   ┆ 80    │\n",
       "│ traj02   ┆ 576   │\n",
       "│ traj05   ┆ 480   │\n",
       "│ traj04   ┆ 80    │\n",
       "│ traj06   ┆ 560   │\n",
       "└──────────┴───────┘"
      ]
     },
     "execution_count": 4,
     "metadata": {},
     "output_type": "execute_result"
    }
   ],
   "source": [
    "df_eda[\"serie_id\"].value_counts()"
   ]
  },
  {
   "cell_type": "code",
   "execution_count": null,
   "metadata": {},
   "outputs": [],
   "source": []
  }
 ],
 "metadata": {
  "kernelspec": {
   "display_name": "base",
   "language": "python",
   "name": "python3"
  },
  "language_info": {
   "codemirror_mode": {
    "name": "ipython",
    "version": 3
   },
   "file_extension": ".py",
   "mimetype": "text/x-python",
   "name": "python",
   "nbconvert_exporter": "python",
   "pygments_lexer": "ipython3",
   "version": "3.12.7"
  }
 },
 "nbformat": 4,
 "nbformat_minor": 2
}
